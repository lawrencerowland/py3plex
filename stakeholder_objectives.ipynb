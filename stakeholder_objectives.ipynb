{
  "cells": [
    {
      "cell_type": "markdown",
      "metadata": {
        "id": "view-in-github",
        "colab_type": "text"
      },
      "source": [
        "<a href=\"https://colab.research.google.com/github/lawrencerowland/py3plex/blob/master/stakeholder_objectives.ipynb\" target=\"_parent\"><img src=\"https://colab.research.google.com/assets/colab-badge.svg\" alt=\"Open In Colab\"/></a>"
      ]
    },
    {
      "cell_type": "code",
      "execution_count": 68,
      "metadata": {
        "id": "zPJWi7BXRtWe"
      },
      "outputs": [],
      "source": [
        "from py3plex.core import multinet\n",
        "from py3plex.visualization.multilayer import draw_multiedges, draw_multilayer_default, hairball_plot, plt\n",
        "from py3plex.visualization.colors import all_color_names,colors_default\n",
        "import networkx as nx\n",
        "\n",
        "A = multinet.multi_layer_network()\n",
        "\n",
        "# Edges  added as lists: [n1,l1,n2,l2,w]\n",
        "objectives = [[\"sustain_carbon\", \"objectives\", \"new_station\", \"objectives\", 10],\n",
        "          [\"sustain_carbon\", \"objectives\", \"New_construction_method\", \"objectives\", 7],\n",
        "           [\"faster_trains\", \"objectives\", \"new_station\", \"objectives\", 5],]\n",
        "\n",
        "stakeholders = [[\"Town_council\", \"stakeholders\", \"Train_Operator\", \"stakeholders\", .4],\n",
        "           [\"Town_council\", \"stakeholders\", \"Safety_Board\", \"stakeholders\", .1],\n",
        "           [\"Safety_Board\", \"stakeholders\", \"Train_manufacturer\", \"stakeholders\", .6]]\n",
        "\n",
        "scope = [[\"civil_works\", \"scope\", \"new_track\", \"scope\", .7],\n",
        "         [\"in_cab_signalling\", \"scope\", \"new_track\", \"scope\", .6],\n",
        "         [\"new_trains\", \"scope\", \"new_track\", \"scope\", .7],\n",
        "         [\"new_trains\", \"scope\", \"in_cab_signalling\", \"scope\", .9],\n",
        "         [\"telecoms\", \"scope\", \"in_cab_signalling\", \"scope\", .9],\n",
        "         [\"telecoms\", \"scope\", \"new_trains\", \"scope\", .9]]\n",
        "\n",
        "inter_layer_edges = [[\"sustain_carbon\", \"objectives\", \"Town_council\", \"stakeholders\", .6],\n",
        "                     [\"sustain_carbon\", \"objectives\", \"Train_manufacturer\", \"stakeholders\", .6],\n",
        "                     [\"faster_trains\", \"objectives\", \"Train_manufacturer\", \"stakeholders\", 1],\n",
        "                     [\"faster_trains\", \"objectives\", \"Safety_Board\", \"stakeholders\", .8],\n",
        "                     [\"new_trains\", \"scope\", \"faster_trains\", \"objectives\", .9],\n",
        "                     [\"civil_works\", \"scope\", \"New_construction_method\", \"objectives\", .7],\n",
        "                     [\"new_track\", \"scope\", \"sustain_carbon\", \"objectives\", .5],\n",
        "                     [\"civil_works\", \"scope\", \"new_station\", \"objectives\", .6],\n",
        "                     [\"new_trains\", \"scope\", \"faster_trains\", \"objectives\", .9],\n",
        "                     [\"new_trains\", \"scope\", \"Safety_Board\", \"stakeholders\", .7],\n",
        "                     [\"new_trains\", \"scope\", \"Train_manfacturer\", \"stakeholders\", 1],\n",
        "                     [\"telecoms\", \"scope\", \"Safety_Board\", \"stakeholders\", .6],\n",
        "                     [\"in_cab_signalling\", \"scope\", \"Train_Operator\", \"stakeholders\", .6],\n",
        "                     [\"civil_works\", \"scope\", \"Town_council\", \"stakeholders\", .4],\n",
        "                     [\"new_trains\", \"scope\", \"Safety_Board\", \"stakeholders\", .9]]"
      ]
    },
    {
      "cell_type": "code",
      "execution_count": 69,
      "metadata": {
        "colab": {
          "base_uri": "https://localhost:8080/"
        },
        "outputId": "5279015b-0169-4cb7-c865-d777722c26b4",
        "id": "KEKCbym1fVoi",
        "collapsed": true
      },
      "outputs": [
        {
          "output_type": "stream",
          "name": "stdout",
          "text": [
            "-------------------- \n",
            " Computing core stats of the network \n",
            " --------------------\n",
            "MultiDiGraph with 14 nodes and 21 edges\n",
            "Number of unique node IDs: 9\n",
            "[(('sustain_carbon', 'objectives'), ('new_station', 'objectives')), (('sustain_carbon', 'objectives'), ('New_construction_method', 'objectives')), (('sustain_carbon', 'objectives'), ('Town_council', 'stakeholders')), (('sustain_carbon', 'objectives'), ('Train_manufacturer', 'stakeholders')), (('faster_trains', 'objectives'), ('new_station', 'objectives')), (('faster_trains', 'objectives'), ('Train_manufacturer', 'stakeholders')), (('faster_trains', 'objectives'), ('Safety_Board', 'stakeholders')), (('Town_council', 'stakeholders'), ('Train_Operator', 'stakeholders')), (('Town_council', 'stakeholders'), ('Safety_Board', 'stakeholders')), (('Safety_Board', 'stakeholders'), ('Train_manufacturer', 'stakeholders')), (('new_trains', 'scope'), ('faster_trains', 'objectives')), (('new_trains', 'scope'), ('faster_trains', 'objectives')), (('new_trains', 'scope'), ('Safety_Board', 'stakeholders')), (('new_trains', 'scope'), ('Safety_Board', 'stakeholders')), (('new_trains', 'scope'), ('Train_manfacturer', 'stakeholders')), (('civil_works', 'scope'), ('New_construction_method', 'objectives')), (('civil_works', 'scope'), ('new_station', 'objectives')), (('civil_works', 'scope'), ('Town_council', 'stakeholders')), (('new_track', 'scope'), ('sustain_carbon', 'objectives')), (('telecoms', 'scope'), ('Safety_Board', 'stakeholders')), (('in_cab_signalling', 'scope'), ('Train_Operator', 'stakeholders'))]\n"
          ]
        }
      ],
      "source": [
        "# specify that input is list\n",
        "A.add_edges(objectives, input_type=\"list\")\n",
        "A.add_edges(stakeholders, input_type=\"list\")\n",
        "A.add_edges(inter_layer_edges, input_type=\"list\")\n"
      ]
    },
    {
      "cell_type": "code",
      "execution_count": 73,
      "metadata": {
        "colab": {
          "base_uri": "https://localhost:8080/",
          "height": 430
        },
        "id": "g_YVERbUQ4mE",
        "outputId": "2efacad3-f65d-4076-eedf-ff63b0b120a9",
        "collapsed": true
      },
      "outputs": [
        {
          "output_type": "stream",
          "name": "stdout",
          "text": [
            "{'Number of layers': 3, 'Nodes': 14, 'Edges': 63, 'Mean degree': 9.0, 'CC': 1}\n",
            "-------------------- \n",
            " Computing core stats of the network \n",
            " --------------------\n",
            "MultiDiGraph with 14 nodes and 63 edges\n",
            "Number of unique node IDs: 9\n",
            "[(('sustain_carbon', 'objectives'), ('new_station', 'objectives')), (('sustain_carbon', 'objectives'), ('new_station', 'objectives')), (('sustain_carbon', 'objectives'), ('new_station', 'objectives')), (('sustain_carbon', 'objectives'), ('New_construction_method', 'objectives')), (('sustain_carbon', 'objectives'), ('New_construction_method', 'objectives')), (('sustain_carbon', 'objectives'), ('New_construction_method', 'objectives')), (('sustain_carbon', 'objectives'), ('Town_council', 'stakeholders')), (('sustain_carbon', 'objectives'), ('Town_council', 'stakeholders')), (('sustain_carbon', 'objectives'), ('Town_council', 'stakeholders')), (('sustain_carbon', 'objectives'), ('Train_manufacturer', 'stakeholders')), (('sustain_carbon', 'objectives'), ('Train_manufacturer', 'stakeholders')), (('sustain_carbon', 'objectives'), ('Train_manufacturer', 'stakeholders')), (('faster_trains', 'objectives'), ('new_station', 'objectives')), (('faster_trains', 'objectives'), ('new_station', 'objectives')), (('faster_trains', 'objectives'), ('new_station', 'objectives')), (('faster_trains', 'objectives'), ('Train_manufacturer', 'stakeholders')), (('faster_trains', 'objectives'), ('Train_manufacturer', 'stakeholders')), (('faster_trains', 'objectives'), ('Train_manufacturer', 'stakeholders')), (('faster_trains', 'objectives'), ('Safety_Board', 'stakeholders')), (('faster_trains', 'objectives'), ('Safety_Board', 'stakeholders')), (('faster_trains', 'objectives'), ('Safety_Board', 'stakeholders')), (('Town_council', 'stakeholders'), ('Train_Operator', 'stakeholders')), (('Town_council', 'stakeholders'), ('Train_Operator', 'stakeholders')), (('Town_council', 'stakeholders'), ('Train_Operator', 'stakeholders')), (('Town_council', 'stakeholders'), ('Safety_Board', 'stakeholders')), (('Town_council', 'stakeholders'), ('Safety_Board', 'stakeholders')), (('Town_council', 'stakeholders'), ('Safety_Board', 'stakeholders')), (('Safety_Board', 'stakeholders'), ('Train_manufacturer', 'stakeholders')), (('Safety_Board', 'stakeholders'), ('Train_manufacturer', 'stakeholders')), (('Safety_Board', 'stakeholders'), ('Train_manufacturer', 'stakeholders')), (('new_trains', 'scope'), ('faster_trains', 'objectives')), (('new_trains', 'scope'), ('faster_trains', 'objectives')), (('new_trains', 'scope'), ('faster_trains', 'objectives')), (('new_trains', 'scope'), ('faster_trains', 'objectives')), (('new_trains', 'scope'), ('faster_trains', 'objectives')), (('new_trains', 'scope'), ('faster_trains', 'objectives')), (('new_trains', 'scope'), ('Safety_Board', 'stakeholders')), (('new_trains', 'scope'), ('Safety_Board', 'stakeholders')), (('new_trains', 'scope'), ('Safety_Board', 'stakeholders')), (('new_trains', 'scope'), ('Safety_Board', 'stakeholders')), (('new_trains', 'scope'), ('Safety_Board', 'stakeholders')), (('new_trains', 'scope'), ('Safety_Board', 'stakeholders')), (('new_trains', 'scope'), ('Train_manfacturer', 'stakeholders')), (('new_trains', 'scope'), ('Train_manfacturer', 'stakeholders')), (('new_trains', 'scope'), ('Train_manfacturer', 'stakeholders')), (('civil_works', 'scope'), ('New_construction_method', 'objectives')), (('civil_works', 'scope'), ('New_construction_method', 'objectives')), (('civil_works', 'scope'), ('New_construction_method', 'objectives')), (('civil_works', 'scope'), ('new_station', 'objectives')), (('civil_works', 'scope'), ('new_station', 'objectives')), (('civil_works', 'scope'), ('new_station', 'objectives')), (('civil_works', 'scope'), ('Town_council', 'stakeholders')), (('civil_works', 'scope'), ('Town_council', 'stakeholders')), (('civil_works', 'scope'), ('Town_council', 'stakeholders')), (('new_track', 'scope'), ('sustain_carbon', 'objectives')), (('new_track', 'scope'), ('sustain_carbon', 'objectives')), (('new_track', 'scope'), ('sustain_carbon', 'objectives')), (('telecoms', 'scope'), ('Safety_Board', 'stakeholders')), (('telecoms', 'scope'), ('Safety_Board', 'stakeholders')), (('telecoms', 'scope'), ('Safety_Board', 'stakeholders')), (('in_cab_signalling', 'scope'), ('Train_Operator', 'stakeholders')), (('in_cab_signalling', 'scope'), ('Train_Operator', 'stakeholders')), (('in_cab_signalling', 'scope'), ('Train_Operator', 'stakeholders'))]\n",
            "      Name classes nodes edges  degree     diameter connected components  \\\n",
            "0  example    None    14    63     9.0  intractable                 None   \n",
            "\n",
            "  clustering coefficient   density  flow_hierarchy  flow hierarchy  \n",
            "0                   None  0.346154             NaN             1.0  \n"
          ]
        },
        {
          "output_type": "error",
          "ename": "NameError",
          "evalue": "ignored",
          "traceback": [
            "\u001b[0;31m---------------------------------------------------------------------------\u001b[0m",
            "\u001b[0;31mNameError\u001b[0m                                 Traceback (most recent call last)",
            "\u001b[0;32m<ipython-input-73-01a5cd677381>\u001b[0m in \u001b[0;36m<module>\u001b[0;34m\u001b[0m\n\u001b[1;32m      6\u001b[0m \u001b[0mprint\u001b[0m\u001b[0;34m(\u001b[0m\u001b[0mstats_frame\u001b[0m\u001b[0;34m)\u001b[0m\u001b[0;34m\u001b[0m\u001b[0;34m\u001b[0m\u001b[0m\n\u001b[1;32m      7\u001b[0m \u001b[0;34m\u001b[0m\u001b[0m\n\u001b[0;32m----> 8\u001b[0;31m \u001b[0mtop_n_by_degree\u001b[0m \u001b[0;34m=\u001b[0m \u001b[0midentify_n_hubs\u001b[0m\u001b[0;34m(\u001b[0m\u001b[0mA\u001b[0m\u001b[0;34m.\u001b[0m\u001b[0mcore_network\u001b[0m\u001b[0;34m,\u001b[0m \u001b[0;36m20\u001b[0m\u001b[0;34m)\u001b[0m\u001b[0;34m\u001b[0m\u001b[0;34m\u001b[0m\u001b[0m\n\u001b[0m\u001b[1;32m      9\u001b[0m \u001b[0mprint\u001b[0m\u001b[0;34m(\u001b[0m\u001b[0mtop_n_by_degree\u001b[0m\u001b[0;34m)\u001b[0m\u001b[0;34m\u001b[0m\u001b[0;34m\u001b[0m\u001b[0m\n",
            "\u001b[0;31mNameError\u001b[0m: name 'identify_n_hubs' is not defined"
          ]
        }
      ],
      "source": [
        "# quick summary\n",
        "print(A.summary())\n",
        "A.basic_stats()\n",
        "print(list(A.get_edges()))\n",
        "stats_frame = core_network_statistics(A.core_network)\n",
        "print(stats_frame)"
      ]
    },
    {
      "cell_type": "code",
      "execution_count": 53,
      "metadata": {
        "colab": {
          "base_uri": "https://localhost:8080/",
          "height": 451
        },
        "id": "G2J9tIugLgJn",
        "outputId": "dfef91f8-fa0d-48d1-8196-6a28b3b959eb",
        "collapsed": true
      },
      "outputs": [
        {
          "output_type": "stream",
          "name": "stdout",
          "text": [
            "-------------------- \n",
            " Network splitting in progress \n",
            " --------------------\n",
            "Beginning parsing..\n"
          ]
        },
        {
          "output_type": "stream",
          "name": "stderr",
          "text": [
            "100%|██████████| 100/100 [00:00<00:00, 1290.45it/s]"
          ]
        },
        {
          "output_type": "stream",
          "name": "stdout",
          "text": [
            "BarnesHut Approximation  took  0.02  seconds\n",
            "Repulsion forces  took  0.04  seconds\n",
            "Gravitational forces  took  0.00  seconds\n",
            "Attraction forces  took  0.01  seconds\n",
            "AdjustSpeedAndApplyForces step  took  0.01  seconds\n"
          ]
        },
        {
          "output_type": "stream",
          "name": "stderr",
          "text": [
            "\n"
          ]
        },
        {
          "output_type": "display_data",
          "data": {
            "text/plain": [
              "<Figure size 432x288 with 1 Axes>"
            ],
            "image/png": "[encoded data removed]"
          },
          "metadata": {}
        },
        {
          "output_type": "display_data",
          "data": {
            "text/plain": [
              "<Figure size 432x288 with 0 Axes>"
            ]
          },
          "metadata": {}
        }
      ],
      "source": [
        "A.visualize_network(style=\"hairball\")\n",
        "plt.show()\n",
        "plt.clf()"
      ]
    },
    {
      "cell_type": "code",
      "source": [
        "network_labels, graphs, multilinks = A.get_layers() \n",
        "# just show the layers \n",
        "draw_multilayer_default(graphs,\n",
        "                        display=False,\n",
        "                        background_shape=\"circle\",\n",
        "                        labels=network_labels)"
      ],
      "metadata": {
        "id": "K0i6r4T1zzJu",
        "outputId": "be6d9241-089f-4776-fdcd-1b211f26d04d",
        "colab": {
          "base_uri": "https://localhost:8080/",
          "height": 642
        }
      },
      "execution_count": 50,
      "outputs": [
        {
          "output_type": "stream",
          "name": "stdout",
          "text": [
            "-------------------- \n",
            " Network splitting in progress \n",
            " --------------------\n"
          ]
        },
        {
          "output_type": "stream",
          "name": "stderr",
          "text": [
            "100%|██████████| 100/100 [00:00<00:00, 7133.17it/s]\n"
          ]
        },
        {
          "output_type": "stream",
          "name": "stdout",
          "text": [
            "BarnesHut Approximation  took  0.00  seconds\n",
            "Repulsion forces  took  0.00  seconds\n",
            "Gravitational forces  took  0.00  seconds\n",
            "Attraction forces  took  0.00  seconds\n",
            "AdjustSpeedAndApplyForces step  took  0.00  seconds\n"
          ]
        },
        {
          "output_type": "stream",
          "name": "stderr",
          "text": [
            "100%|██████████| 100/100 [00:00<00:00, 5510.63it/s]\n"
          ]
        },
        {
          "output_type": "stream",
          "name": "stdout",
          "text": [
            "BarnesHut Approximation  took  0.00  seconds\n",
            "Repulsion forces  took  0.01  seconds\n",
            "Gravitational forces  took  0.00  seconds\n",
            "Attraction forces  took  0.00  seconds\n",
            "AdjustSpeedAndApplyForces step  took  0.00  seconds\n"
          ]
        },
        {
          "output_type": "stream",
          "name": "stderr",
          "text": [
            "100%|██████████| 100/100 [00:00<00:00, 8327.65it/s]"
          ]
        },
        {
          "output_type": "stream",
          "name": "stdout",
          "text": [
            "BarnesHut Approximation  took  0.00  seconds\n",
            "Repulsion forces  took  0.00  seconds\n",
            "Gravitational forces  took  0.00  seconds\n",
            "Attraction forces  took  0.00  seconds\n",
            "AdjustSpeedAndApplyForces step  took  0.00  seconds\n",
            "Finished with layout..\n"
          ]
        },
        {
          "output_type": "stream",
          "name": "stderr",
          "text": [
            "\n"
          ]
        },
        {
          "output_type": "display_data",
          "data": {
            "text/plain": [
              "<Figure size 432x288 with 1 Axes>"
            ],
            "image/png": "[encoded data removed]"
          },
          "metadata": {}
        }
      ]
    },
    {
      "cell_type": "code",
      "source": [],
      "metadata": {
        "id": "uBURZkyhEX2m",
        "outputId": "994cad08-52dd-44f6-f250-04490b344464",
        "colab": {
          "base_uri": "https://localhost:8080/"
        }
      },
      "execution_count": 85,
      "outputs": [
        {
          "output_type": "execute_result",
          "data": {
            "text/plain": [
              "<networkx.classes.multidigraph.MultiDiGraph at 0x7fcb71731910>"
            ]
          },
          "metadata": {},
          "execution_count": 85
        }
      ]
    },
    {
      "cell_type": "code",
      "source": [
        "A.visualize_network(style=\"diagonal\",\n",
        "                                     resolution=0.001,\n",
        "                                     linepoints=\"-\",\n",
        "                                     linewidth=3)\n",
        "plt.show()\n",
        "plt.clf()\n",
        "#even simpler A.visualize_network()\n",
        "#plt.show()"
      ],
      "metadata": {
        "id": "wae-Hus0i2Ok",
        "outputId": "1aeffd17-c3c9-4a0f-f14f-b44dd4d88bef",
        "colab": {
          "base_uri": "https://localhost:8080/",
          "height": 722
        },
        "collapsed": true
      },
      "execution_count": 54,
      "outputs": [
        {
          "output_type": "stream",
          "name": "stdout",
          "text": [
            "-------------------- \n",
            " Network splitting in progress \n",
            " --------------------\n"
          ]
        },
        {
          "output_type": "stream",
          "name": "stderr",
          "text": [
            "100%|██████████| 100/100 [00:00<00:00, 5270.55it/s]\n"
          ]
        },
        {
          "output_type": "stream",
          "name": "stdout",
          "text": [
            "BarnesHut Approximation  took  0.01  seconds\n",
            "Repulsion forces  took  0.01  seconds\n",
            "Gravitational forces  took  0.00  seconds\n",
            "Attraction forces  took  0.00  seconds\n",
            "AdjustSpeedAndApplyForces step  took  0.00  seconds\n"
          ]
        },
        {
          "output_type": "stream",
          "name": "stderr",
          "text": [
            "100%|██████████| 100/100 [00:00<00:00, 3560.83it/s]\n"
          ]
        },
        {
          "output_type": "stream",
          "name": "stdout",
          "text": [
            "BarnesHut Approximation  took  0.00  seconds\n",
            "Repulsion forces  took  0.02  seconds\n",
            "Gravitational forces  took  0.00  seconds\n",
            "Attraction forces  took  0.00  seconds\n",
            "AdjustSpeedAndApplyForces step  took  0.00  seconds\n"
          ]
        },
        {
          "output_type": "stream",
          "name": "stderr",
          "text": [
            "100%|██████████| 100/100 [00:00<00:00, 7874.56it/s]\n"
          ]
        },
        {
          "output_type": "stream",
          "name": "stdout",
          "text": [
            "BarnesHut Approximation  took  0.00  seconds\n",
            "Repulsion forces  took  0.00  seconds\n",
            "Gravitational forces  took  0.00  seconds\n",
            "Attraction forces  took  0.00  seconds\n",
            "AdjustSpeedAndApplyForces step  took  0.00  seconds\n",
            "Finished with layout..\n",
            "MultiDiGraph with 4 nodes and 3 edges\n",
            "MultiDiGraph with 5 nodes and 3 edges\n",
            "MultiDiGraph with 5 nodes and 0 edges\n"
          ]
        },
        {
          "output_type": "stream",
          "name": "stderr",
          "text": [
            "100%|██████████| 1/1 [00:00<00:00, 37.28it/s]\n"
          ]
        },
        {
          "output_type": "display_data",
          "data": {
            "text/plain": [
              "<Figure size 432x288 with 1 Axes>"
            ],
            "image/png": "[encoded data removed]"
          },
          "metadata": {}
        },
        {
          "output_type": "display_data",
          "data": {
            "text/plain": [
              "<Figure size 432x288 with 0 Axes>"
            ]
          },
          "metadata": {}
        }
      ]
    },
    {
      "cell_type": "code",
      "execution_count": 52,
      "metadata": {
        "colab": {
          "base_uri": "https://localhost:8080/"
        },
        "collapsed": true,
        "id": "Pv2U5GIlJzWV",
        "jupyter": {
          "outputs_hidden": true
        },
        "outputId": "3f9f0a95-df4b-4fa5-fc63-701f29b3e2ca"
      },
      "outputs": [
        {
          "output_type": "stream",
          "name": "stdout",
          "text": [
            "-------------------- \n",
            " Computing core stats of the network \n",
            " --------------------\n",
            "MultiDiGraph with 14 nodes and 21 edges\n",
            "Number of unique node IDs: 9\n"
          ]
        }
      ],
      "source": [
        "A.basic_stats()"
      ]
    },
    {
      "cell_type": "code",
      "execution_count": null,
      "metadata": {
        "id": "_kxda6b9L1OM"
      },
      "outputs": [],
      "source": [
        "# You can also access individual graphical elements separately\n",
        "# eg if edge_type == \"refers_to\":"
      ]
    },
    {
      "cell_type": "code",
      "execution_count": 109,
      "metadata": {
        "colab": {
          "base_uri": "https://localhost:8080/"
        },
        "id": "Kvg43IFSOOc0",
        "outputId": "262a77e6-958d-493c-fe38-36a70bd18c02",
        "collapsed": true
      },
      "outputs": [
        {
          "output_type": "stream",
          "name": "stdout",
          "text": [
            "-------------------- \n",
            " Network splitting in progress \n",
            " --------------------\n"
          ]
        },
        {
          "output_type": "stream",
          "name": "stderr",
          "text": [
            "100%|██████████| 100/100 [00:00<00:00, 7086.41it/s]\n"
          ]
        },
        {
          "output_type": "stream",
          "name": "stdout",
          "text": [
            "BarnesHut Approximation  took  0.00  seconds\n",
            "Repulsion forces  took  0.00  seconds\n",
            "Gravitational forces  took  0.00  seconds\n",
            "Attraction forces  took  0.00  seconds\n",
            "AdjustSpeedAndApplyForces step  took  0.00  seconds\n"
          ]
        },
        {
          "output_type": "stream",
          "name": "stderr",
          "text": [
            "100%|██████████| 100/100 [00:00<00:00, 4614.45it/s]\n"
          ]
        },
        {
          "output_type": "stream",
          "name": "stdout",
          "text": [
            "BarnesHut Approximation  took  0.01  seconds\n",
            "Repulsion forces  took  0.01  seconds\n",
            "Gravitational forces  took  0.00  seconds\n",
            "Attraction forces  took  0.00  seconds\n",
            "AdjustSpeedAndApplyForces step  took  0.00  seconds\n"
          ]
        },
        {
          "output_type": "stream",
          "name": "stderr",
          "text": [
            "100%|██████████| 100/100 [00:00<00:00, 7218.12it/s]"
          ]
        },
        {
          "output_type": "stream",
          "name": "stdout",
          "text": [
            "BarnesHut Approximation  took  0.00  seconds\n",
            "Repulsion forces  took  0.01  seconds\n",
            "Gravitational forces  took  0.00  seconds\n",
            "Attraction forces  took  0.00  seconds\n",
            "AdjustSpeedAndApplyForces step  took  0.00  seconds\n",
            "Finished with layout..\n",
            "('objectives', 'stakeholders', 'scope')\n",
            "(<networkx.classes.multidigraph.MultiDiGraph object at 0x7fcb7113b1d0>, <networkx.classes.multidigraph.MultiDiGraph object at 0x7fcb7113b290>, <networkx.classes.multidigraph.MultiDiGraph object at 0x7fcb7113b410>)\n",
            "defaultdict(<class 'list'>, {'default': [(('sustain_carbon', 'objectives'), ('Town_council', 'stakeholders'), {'weight': 0.6, 'type': 'default'}), (('sustain_carbon', 'objectives'), ('Town_council', 'stakeholders'), {'weight': 0.6, 'type': 'default'}), (('sustain_carbon', 'objectives'), ('Town_council', 'stakeholders'), {'weight': 0.6, 'type': 'default'}), (('sustain_carbon', 'objectives'), ('Train_manufacturer', 'stakeholders'), {'weight': 0.6, 'type': 'default'}), (('sustain_carbon', 'objectives'), ('Train_manufacturer', 'stakeholders'), {'weight': 0.6, 'type': 'default'}), (('sustain_carbon', 'objectives'), ('Train_manufacturer', 'stakeholders'), {'weight': 0.6, 'type': 'default'}), (('faster_trains', 'objectives'), ('Train_manufacturer', 'stakeholders'), {'weight': 1, 'type': 'default'}), (('faster_trains', 'objectives'), ('Train_manufacturer', 'stakeholders'), {'weight': 1, 'type': 'default'}), (('faster_trains', 'objectives'), ('Train_manufacturer', 'stakeholders'), {'weight': 1, 'type': 'default'}), (('faster_trains', 'objectives'), ('Safety_Board', 'stakeholders'), {'weight': 0.8, 'type': 'default'}), (('faster_trains', 'objectives'), ('Safety_Board', 'stakeholders'), {'weight': 0.8, 'type': 'default'}), (('faster_trains', 'objectives'), ('Safety_Board', 'stakeholders'), {'weight': 0.8, 'type': 'default'}), (('new_trains', 'scope'), ('faster_trains', 'objectives'), {'weight': 0.9, 'type': 'default'}), (('new_trains', 'scope'), ('faster_trains', 'objectives'), {'weight': 0.9, 'type': 'default'}), (('new_trains', 'scope'), ('faster_trains', 'objectives'), {'weight': 0.9, 'type': 'default'}), (('new_trains', 'scope'), ('faster_trains', 'objectives'), {'weight': 0.9, 'type': 'default'}), (('new_trains', 'scope'), ('faster_trains', 'objectives'), {'weight': 0.9, 'type': 'default'}), (('new_trains', 'scope'), ('faster_trains', 'objectives'), {'weight': 0.9, 'type': 'default'}), (('new_trains', 'scope'), ('Safety_Board', 'stakeholders'), {'weight': 0.7, 'type': 'default'}), (('new_trains', 'scope'), ('Safety_Board', 'stakeholders'), {'weight': 0.9, 'type': 'default'}), (('new_trains', 'scope'), ('Safety_Board', 'stakeholders'), {'weight': 0.7, 'type': 'default'}), (('new_trains', 'scope'), ('Safety_Board', 'stakeholders'), {'weight': 0.9, 'type': 'default'}), (('new_trains', 'scope'), ('Safety_Board', 'stakeholders'), {'weight': 0.7, 'type': 'default'}), (('new_trains', 'scope'), ('Safety_Board', 'stakeholders'), {'weight': 0.9, 'type': 'default'}), (('new_trains', 'scope'), ('Train_manfacturer', 'stakeholders'), {'weight': 1, 'type': 'default'}), (('new_trains', 'scope'), ('Train_manfacturer', 'stakeholders'), {'weight': 1, 'type': 'default'}), (('new_trains', 'scope'), ('Train_manfacturer', 'stakeholders'), {'weight': 1, 'type': 'default'}), (('civil_works', 'scope'), ('New_construction_method', 'objectives'), {'weight': 0.7, 'type': 'default'}), (('civil_works', 'scope'), ('New_construction_method', 'objectives'), {'weight': 0.7, 'type': 'default'}), (('civil_works', 'scope'), ('New_construction_method', 'objectives'), {'weight': 0.7, 'type': 'default'}), (('civil_works', 'scope'), ('new_station', 'objectives'), {'weight': 0.6, 'type': 'default'}), (('civil_works', 'scope'), ('new_station', 'objectives'), {'weight': 0.6, 'type': 'default'}), (('civil_works', 'scope'), ('new_station', 'objectives'), {'weight': 0.6, 'type': 'default'}), (('civil_works', 'scope'), ('Town_council', 'stakeholders'), {'weight': 0.4, 'type': 'default'}), (('civil_works', 'scope'), ('Town_council', 'stakeholders'), {'weight': 0.4, 'type': 'default'}), (('civil_works', 'scope'), ('Town_council', 'stakeholders'), {'weight': 0.4, 'type': 'default'}), (('new_track', 'scope'), ('sustain_carbon', 'objectives'), {'weight': 0.5, 'type': 'default'}), (('new_track', 'scope'), ('sustain_carbon', 'objectives'), {'weight': 0.5, 'type': 'default'}), (('new_track', 'scope'), ('sustain_carbon', 'objectives'), {'weight': 0.5, 'type': 'default'}), (('telecoms', 'scope'), ('Safety_Board', 'stakeholders'), {'weight': 0.6, 'type': 'default'}), (('telecoms', 'scope'), ('Safety_Board', 'stakeholders'), {'weight': 0.6, 'type': 'default'}), (('telecoms', 'scope'), ('Safety_Board', 'stakeholders'), {'weight': 0.6, 'type': 'default'}), (('in_cab_signalling', 'scope'), ('Train_Operator', 'stakeholders'), {'weight': 0.6, 'type': 'default'}), (('in_cab_signalling', 'scope'), ('Train_Operator', 'stakeholders'), {'weight': 0.6, 'type': 'default'}), (('in_cab_signalling', 'scope'), ('Train_Operator', 'stakeholders'), {'weight': 0.6, 'type': 'default'})]})\n"
          ]
        },
        {
          "output_type": "stream",
          "name": "stderr",
          "text": [
            "\n"
          ]
        }
      ],
      "source": [
        "# A simple example for extracting different layers based on subgraphs.\n",
        "\n",
        "from py3plex.algorithms.statistics.basic_statistics import core_network_statistics\n",
        "\n",
        "names, networks, multiedges = A.get_layers()\n",
        "\n",
        "print (names)\n",
        "print (networks)\n",
        "print (multiedges)"
      ]
    },
    {
      "cell_type": "code",
      "execution_count": 71,
      "metadata": {
        "colab": {
          "base_uri": "https://localhost:8080/"
        },
        "id": "GR-2r5z6Py6M",
        "outputId": "d411ae1f-c81a-453d-af96-5f90e54ff490",
        "collapsed": true
      },
      "outputs": [
        {
          "output_type": "stream",
          "name": "stdout",
          "text": [
            "-------------------- \n",
            " Node looping: \n",
            " --------------------\n",
            "(('sustain_carbon', 'objectives'), {'pos': array([0.69143752, 0.30892175])})\n",
            "(('new_station', 'objectives'), {'pos': array([0.42489202, 0.57537414])})\n",
            "(('New_construction_method', 'objectives'), {'pos': array([1., 0.])})\n",
            "(('faster_trains', 'objectives'), {'pos': array([0., 1.])})\n",
            "(('Town_council', 'stakeholders'), {'pos': array([0., 1.])})\n",
            "(('Train_Operator', 'stakeholders'), {'pos': array([0.53833641, 0.5440699 ])})\n",
            "(('Safety_Board', 'stakeholders'), {'pos': array([1.        , 0.37459618])})\n",
            "(('Train_manufacturer', 'stakeholders'), {'pos': array([0.96474958, 0.3940889 ])})\n",
            "(('new_trains', 'scope'), {'pos': array([0.17458555, 0.        ])})\n",
            "(('civil_works', 'scope'), {'pos': array([0.5       , 0.09262221])})\n",
            "(('new_track', 'scope'), {'pos': array([0.        , 0.38424132])})\n",
            "(('Train_manfacturer', 'stakeholders'), {'pos': array([0.19684888, 0.        ])})\n",
            "(('telecoms', 'scope'), {'pos': array([0.2365215 , 0.21922634])})\n",
            "(('in_cab_signalling', 'scope'), {'pos': array([0.36101811, 0.5       ])})\n"
          ]
        }
      ],
      "source": [
        "\n",
        "A = multilayer_network\n",
        "A.monitor(\"Node looping:\")\n",
        "for node in A.get_nodes(data=True):\n",
        "    print(node)\n",
        "    #when i do this for edges i get duplicates"
      ]
    },
    {
      "cell_type": "code",
      "execution_count": 82,
      "metadata": {
        "colab": {
          "base_uri": "https://localhost:8080/"
        },
        "id": "AEqixsoaSCpp",
        "outputId": "35150813-99b9-40ff-fbcf-95a07bb7897b",
        "collapsed": true
      },
      "outputs": [
        {
          "output_type": "stream",
          "name": "stdout",
          "text": [
            "{('new_station', 'objectives'): {0: {'weight': 10, 'type': 'default'}, 1: {'weight': 10, 'type': 'default'}, 2: {'weight': 10, 'type': 'default'}}, ('New_construction_method', 'objectives'): {0: {'weight': 7, 'type': 'default'}, 1: {'weight': 7, 'type': 'default'}, 2: {'weight': 7, 'type': 'default'}}, ('Town_council', 'stakeholders'): {0: {'weight': 0.6, 'type': 'default'}, 1: {'weight': 0.6, 'type': 'default'}, 2: {'weight': 0.6, 'type': 'default'}}, ('Train_manufacturer', 'stakeholders'): {0: {'weight': 0.6, 'type': 'default'}, 1: {'weight': 0.6, 'type': 'default'}, 2: {'weight': 0.6, 'type': 'default'}}}\n"
          ]
        }
      ],
      "source": [
        "# tensor-based operations examples\n",
        "\n",
        "some_nodes = [node for node in A.get_nodes()][0:5]\n",
        "\n",
        "# random node is accessed as follows\n",
        "print(A[some_nodes[0]])\n",
        "\n"
      ]
    },
    {
      "cell_type": "code",
      "source": [
        "One_layer=graphs[0] # or networks[0]\n",
        "nx.draw(One_layer)\n",
        "plt.show()\n",
        "plt.clf()"
      ],
      "metadata": {
        "id": "z2cU8KVMDv-4",
        "outputId": "644adbe1-162a-4e9c-ab81-c11f41189ae5",
        "colab": {
          "base_uri": "https://localhost:8080/",
          "height": 356
        }
      },
      "execution_count": 103,
      "outputs": [
        {
          "output_type": "display_data",
          "data": {
            "text/plain": [
              "<Figure size 432x288 with 1 Axes>"
            ],
            "image/png": "[encoded data removed]"
          },
          "metadata": {}
        },
        {
          "output_type": "display_data",
          "data": {
            "text/plain": [
              "<Figure size 432x288 with 0 Axes>"
            ]
          },
          "metadata": {}
        }
      ]
    },
    {
      "cell_type": "code",
      "source": [
        "list (One_layer.nodes)"
      ],
      "metadata": {
        "id": "z2H8mVQPHStw",
        "outputId": "614b204e-9b0f-4cab-8b20-7fa126187c73",
        "colab": {
          "base_uri": "https://localhost:8080/"
        }
      },
      "execution_count": 116,
      "outputs": [
        {
          "output_type": "execute_result",
          "data": {
            "text/plain": [
              "[('telecoms', 'scope'),\n",
              " ('new_trains', 'scope'),\n",
              " ('civil_works', 'scope'),\n",
              " ('in_cab_signalling', 'scope'),\n",
              " ('new_track', 'scope')]"
            ]
          },
          "metadata": {},
          "execution_count": 116
        }
      ]
    },
    {
      "cell_type": "code",
      "source": [
        "e=nx.ego_graph(One_layer,('telecoms', 'scope'),0)\n"
      ],
      "metadata": {
        "id": "ZaGH3z75GOWl"
      },
      "execution_count": 123,
      "outputs": []
    },
    {
      "cell_type": "code",
      "source": [
        "nx.draw(e)\n",
        "plt.show()\n",
        "plt.clf()"
      ],
      "metadata": {
        "id": "sgC6VbaVF0pX",
        "outputId": "c1aff110-3992-4fc1-c7ab-7f32a2a3deb8",
        "colab": {
          "base_uri": "https://localhost:8080/",
          "height": 356
        }
      },
      "execution_count": 124,
      "outputs": [
        {
          "output_type": "display_data",
          "data": {
            "text/plain": [
              "<Figure size 432x288 with 1 Axes>"
            ],
            "image/png": "[encoded data removed]"
          },
          "metadata": {}
        },
        {
          "output_type": "display_data",
          "data": {
            "text/plain": [
              "<Figure size 432x288 with 0 Axes>"
            ]
          },
          "metadata": {}
        }
      ]
    }
  ],
  "metadata": {
    "colab": {
      "provenance": [],
      "include_colab_link": true
    },
    "kernelspec": {
      "display_name": "Python 3 (ipykernel)",
      "language": "python",
      "name": "python3"
    },
    "language_info": {
      "codemirror_mode": {
        "name": "ipython",
        "version": 3
      },
      "file_extension": ".py",
      "mimetype": "text/x-python",
      "name": "python",
      "nbconvert_exporter": "python",
      "pygments_lexer": "ipython3",
      "version": "3.10.6"
    }
  },
  "nbformat": 4,
  "nbformat_minor": 0
}